{
 "cells": [
  {
   "cell_type": "code",
   "execution_count": 4,
   "metadata": {},
   "outputs": [],
   "source": [
    "%matplotlib inline\n",
    "import numpy as np\n",
    "import matplotlib.pyplot as plt\n",
    "import pandas as pd"
   ]
  },
  {
   "cell_type": "code",
   "execution_count": 29,
   "metadata": {},
   "outputs": [],
   "source": [
    "pH = np.random.normal(7, 2, 20)"
   ]
  },
  {
   "cell_type": "code",
   "execution_count": null,
   "metadata": {},
   "outputs": [],
   "source": [
    "cond = np.random.normal(1203, 100, 20)"
   ]
  },
  {
   "cell_type": "code",
   "execution_count": 32,
   "metadata": {},
   "outputs": [
    {
     "data": {
      "text/plain": [
       "array([ 7.71059949,  2.52535536,  8.17280754,  8.95303464,  9.23227953,\n",
       "       10.11330187, 11.21786094,  4.18186597,  7.62795261,  9.43053724,\n",
       "        1.68258617,  1.8473091 , 11.9760516 ,  8.43169639,  5.79650924,\n",
       "        8.80732048,  6.75827312,  7.97641099,  9.93592756,  5.90391124])"
      ]
     },
     "execution_count": 32,
     "metadata": {},
     "output_type": "execute_result"
    }
   ],
   "source": [
    "pH"
   ]
  },
  {
   "cell_type": "code",
   "execution_count": 33,
   "metadata": {},
   "outputs": [
    {
     "data": {
      "text/plain": [
       "array([1201.70649729, 1269.87084953, 1273.05193515, 1312.76960013,\n",
       "       1102.9907468 , 1309.97278307, 1372.62711114, 1253.76356021,\n",
       "       1299.5885967 , 1383.87482484, 1100.10730687, 1485.16030156,\n",
       "       1172.54460725, 1412.58697305, 1224.29198706, 1173.178244  ,\n",
       "       1206.05177212, 1145.0141624 , 1266.45603864, 1149.15068975])"
      ]
     },
     "execution_count": 33,
     "metadata": {},
     "output_type": "execute_result"
    }
   ],
   "source": [
    "cond"
   ]
  },
  {
   "cell_type": "code",
   "execution_count": 46,
   "metadata": {},
   "outputs": [],
   "source": [
    "data = {'pH': pH, 'conductivity': cond}"
   ]
  },
  {
   "cell_type": "code",
   "execution_count": 47,
   "metadata": {},
   "outputs": [],
   "source": [
    "df = pd.DataFrame(data)"
   ]
  },
  {
   "cell_type": "code",
   "execution_count": 48,
   "metadata": {},
   "outputs": [
    {
     "data": {
      "text/html": [
       "<div>\n",
       "<style scoped>\n",
       "    .dataframe tbody tr th:only-of-type {\n",
       "        vertical-align: middle;\n",
       "    }\n",
       "\n",
       "    .dataframe tbody tr th {\n",
       "        vertical-align: top;\n",
       "    }\n",
       "\n",
       "    .dataframe thead th {\n",
       "        text-align: right;\n",
       "    }\n",
       "</style>\n",
       "<table border=\"1\" class=\"dataframe\">\n",
       "  <thead>\n",
       "    <tr style=\"text-align: right;\">\n",
       "      <th></th>\n",
       "      <th>pH</th>\n",
       "      <th>conductivity</th>\n",
       "    </tr>\n",
       "  </thead>\n",
       "  <tbody>\n",
       "    <tr>\n",
       "      <th>0</th>\n",
       "      <td>7.710599</td>\n",
       "      <td>1201.706497</td>\n",
       "    </tr>\n",
       "    <tr>\n",
       "      <th>1</th>\n",
       "      <td>2.525355</td>\n",
       "      <td>1269.870850</td>\n",
       "    </tr>\n",
       "    <tr>\n",
       "      <th>2</th>\n",
       "      <td>8.172808</td>\n",
       "      <td>1273.051935</td>\n",
       "    </tr>\n",
       "    <tr>\n",
       "      <th>3</th>\n",
       "      <td>8.953035</td>\n",
       "      <td>1312.769600</td>\n",
       "    </tr>\n",
       "    <tr>\n",
       "      <th>4</th>\n",
       "      <td>9.232280</td>\n",
       "      <td>1102.990747</td>\n",
       "    </tr>\n",
       "    <tr>\n",
       "      <th>5</th>\n",
       "      <td>10.113302</td>\n",
       "      <td>1309.972783</td>\n",
       "    </tr>\n",
       "    <tr>\n",
       "      <th>6</th>\n",
       "      <td>11.217861</td>\n",
       "      <td>1372.627111</td>\n",
       "    </tr>\n",
       "    <tr>\n",
       "      <th>7</th>\n",
       "      <td>4.181866</td>\n",
       "      <td>1253.763560</td>\n",
       "    </tr>\n",
       "    <tr>\n",
       "      <th>8</th>\n",
       "      <td>7.627953</td>\n",
       "      <td>1299.588597</td>\n",
       "    </tr>\n",
       "    <tr>\n",
       "      <th>9</th>\n",
       "      <td>9.430537</td>\n",
       "      <td>1383.874825</td>\n",
       "    </tr>\n",
       "    <tr>\n",
       "      <th>10</th>\n",
       "      <td>1.682586</td>\n",
       "      <td>1100.107307</td>\n",
       "    </tr>\n",
       "    <tr>\n",
       "      <th>11</th>\n",
       "      <td>1.847309</td>\n",
       "      <td>1485.160302</td>\n",
       "    </tr>\n",
       "    <tr>\n",
       "      <th>12</th>\n",
       "      <td>11.976052</td>\n",
       "      <td>1172.544607</td>\n",
       "    </tr>\n",
       "    <tr>\n",
       "      <th>13</th>\n",
       "      <td>8.431696</td>\n",
       "      <td>1412.586973</td>\n",
       "    </tr>\n",
       "    <tr>\n",
       "      <th>14</th>\n",
       "      <td>5.796509</td>\n",
       "      <td>1224.291987</td>\n",
       "    </tr>\n",
       "    <tr>\n",
       "      <th>15</th>\n",
       "      <td>8.807320</td>\n",
       "      <td>1173.178244</td>\n",
       "    </tr>\n",
       "    <tr>\n",
       "      <th>16</th>\n",
       "      <td>6.758273</td>\n",
       "      <td>1206.051772</td>\n",
       "    </tr>\n",
       "    <tr>\n",
       "      <th>17</th>\n",
       "      <td>7.976411</td>\n",
       "      <td>1145.014162</td>\n",
       "    </tr>\n",
       "    <tr>\n",
       "      <th>18</th>\n",
       "      <td>9.935928</td>\n",
       "      <td>1266.456039</td>\n",
       "    </tr>\n",
       "    <tr>\n",
       "      <th>19</th>\n",
       "      <td>5.903911</td>\n",
       "      <td>1149.150690</td>\n",
       "    </tr>\n",
       "  </tbody>\n",
       "</table>\n",
       "</div>"
      ],
      "text/plain": [
       "           pH  conductivity\n",
       "0    7.710599   1201.706497\n",
       "1    2.525355   1269.870850\n",
       "2    8.172808   1273.051935\n",
       "3    8.953035   1312.769600\n",
       "4    9.232280   1102.990747\n",
       "5   10.113302   1309.972783\n",
       "6   11.217861   1372.627111\n",
       "7    4.181866   1253.763560\n",
       "8    7.627953   1299.588597\n",
       "9    9.430537   1383.874825\n",
       "10   1.682586   1100.107307\n",
       "11   1.847309   1485.160302\n",
       "12  11.976052   1172.544607\n",
       "13   8.431696   1412.586973\n",
       "14   5.796509   1224.291987\n",
       "15   8.807320   1173.178244\n",
       "16   6.758273   1206.051772\n",
       "17   7.976411   1145.014162\n",
       "18   9.935928   1266.456039\n",
       "19   5.903911   1149.150690"
      ]
     },
     "execution_count": 48,
     "metadata": {},
     "output_type": "execute_result"
    }
   ],
   "source": [
    "df"
   ]
  },
  {
   "cell_type": "code",
   "execution_count": null,
   "metadata": {},
   "outputs": [],
   "source": [
    "#df = pd.read_csv('')"
   ]
  },
  {
   "cell_type": "markdown",
   "metadata": {},
   "source": [
    "matplotlib.pyplot.boxplot(x, notch=None, sym=None, vert=None, whis=None, positions=None, widths=None, patch_artist=None, bootstrap=None, usermedians=None, conf_intervals=None, meanline=None, showmeans=None, showcaps=None, showbox=None, showfliers=None, boxprops=None, labels=None, flierprops=None, medianprops=None, meanprops=None, capprops=None, whiskerprops=None, manage_xticks=True, autorange=False, zorder=None, *, data=None)[source]\n"
   ]
  },
  {
   "cell_type": "code",
   "execution_count": 54,
   "metadata": {},
   "outputs": [
    {
     "ename": "SyntaxError",
     "evalue": "invalid syntax (<ipython-input-54-ff95831526db>, line 2)",
     "output_type": "error",
     "traceback": [
      "\u001b[1;36m  File \u001b[1;32m\"<ipython-input-54-ff95831526db>\"\u001b[1;36m, line \u001b[1;32m2\u001b[0m\n\u001b[1;33m    plt.boxplot([df 'pH'])\u001b[0m\n\u001b[1;37m                       ^\u001b[0m\n\u001b[1;31mSyntaxError\u001b[0m\u001b[1;31m:\u001b[0m invalid syntax\n"
     ]
    }
   ],
   "source": [
    "plt.ylabel('reading')\n",
    "plt.boxplot([df 'pH'])\n",
    "plt.show()"
   ]
  },
  {
   "cell_type": "code",
   "execution_count": 52,
   "metadata": {},
   "outputs": [
    {
     "data": {
      "text/plain": [
       "{'whiskers': [<matplotlib.lines.Line2D at 0x1daa6a029e8>,\n",
       "  <matplotlib.lines.Line2D at 0x1daa6a02e10>,\n",
       "  <matplotlib.lines.Line2D at 0x1daa6a0e780>,\n",
       "  <matplotlib.lines.Line2D at 0x1daa6a0eba8>,\n",
       "  <matplotlib.lines.Line2D at 0x1daa6a20518>,\n",
       "  <matplotlib.lines.Line2D at 0x1daa6a20940>],\n",
       " 'caps': [<matplotlib.lines.Line2D at 0x1daa6a02ef0>,\n",
       "  <matplotlib.lines.Line2D at 0x1daa66686a0>,\n",
       "  <matplotlib.lines.Line2D at 0x1daa6a0efd0>,\n",
       "  <matplotlib.lines.Line2D at 0x1daa6a17438>,\n",
       "  <matplotlib.lines.Line2D at 0x1daa6a20d68>,\n",
       "  <matplotlib.lines.Line2D at 0x1daa6a20e48>],\n",
       " 'boxes': [<matplotlib.lines.Line2D at 0x1daa6a024a8>,\n",
       "  <matplotlib.lines.Line2D at 0x1daa6668f98>,\n",
       "  <matplotlib.lines.Line2D at 0x1daa6a17d30>],\n",
       " 'medians': [<matplotlib.lines.Line2D at 0x1daa6668ac8>,\n",
       "  <matplotlib.lines.Line2D at 0x1daa6a17860>,\n",
       "  <matplotlib.lines.Line2D at 0x1daa6a275f8>],\n",
       " 'fliers': [<matplotlib.lines.Line2D at 0x1daa6668ef0>,\n",
       "  <matplotlib.lines.Line2D at 0x1daa6a17c88>,\n",
       "  <matplotlib.lines.Line2D at 0x1daa6a27a20>],\n",
       " 'means': []}"
      ]
     },
     "execution_count": 52,
     "metadata": {},
     "output_type": "execute_result"
    },
    {
     "data": {
      "image/png": "[encoded data removed]",
      "text/plain": [
       "<Figure size 432x288 with 1 Axes>"
      ]
     },
     "metadata": {
      "needs_background": "light"
     },
     "output_type": "display_data"
    }
   ],
   "source": [
    "x1 = 10*np.random.random(100)\n",
    "x2 = 10*np.random.exponential(0.5, 100)\n",
    "x3 = 10*np.random.normal(0, 0.4, 100)\n",
    "plt.boxplot ([x1, x2, x3])"
   ]
  },
  {
   "cell_type": "code",
   "execution_count": null,
   "metadata": {},
   "outputs": [],
   "source": []
  }
 ],
 "metadata": {
  "kernelspec": {
   "display_name": "Python 3",
   "language": "python",
   "name": "python3"
  },
  "language_info": {
   "codemirror_mode": {
    "name": "ipython",
    "version": 3
   },
   "file_extension": ".py",
   "mimetype": "text/x-python",
   "name": "python",
   "nbconvert_exporter": "python",
   "pygments_lexer": "ipython3",
   "version": "3.7.0"
  }
 },
 "nbformat": 4,
 "nbformat_minor": 2
}
