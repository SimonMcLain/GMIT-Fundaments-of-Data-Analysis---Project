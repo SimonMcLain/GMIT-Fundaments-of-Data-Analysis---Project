{
 "cells": [
  {
   "cell_type": "markdown",
   "metadata": {},
   "source": [
    "![title](\"tukey.png\")\n",
    "\n",
    "John Wilder Tukey\n",
    "Born: 16 June 1915 in New Bedford, Massachusetts, USA\n",
    "Died: 26 July 2000 in Princeton, New Jersey, USA\n",
    "\n",
    "###### Image credit http://www-groups.dcs.st-and.ac.uk/history/Biographies/Tukey.html"
   ]
  },
  {
   "cell_type": "markdown",
   "metadata": {},
   "source": [
    "Turkey was an American mathematician with an esteemed and diverse career. One of the great minds of his generation. Studing Chemistry in Brown and Princetown he transitioned early in his career to mathematics. After being awarded a doctorate in 1939, having already been published three time, he contributed to the World War II effort. Applying his talent for mathematics to increasing the effectiveness of field artillary and it was rumoured he also dabbled in code breaking. After the War he between acedemia and Bell Laboratories.\n",
    "\n",
    "Amoung statisticians and Data Analysts he is known as the creater of the box plot and the fast Fourier transform (FFT) algorithm."
   ]
  },
  {
   "cell_type": "markdown",
   "metadata": {},
   "source": [
    "#### Box Plots\n",
    "The box plot, or more accurately box and whisker plot, created by Tukey in 1970 as part of his tool kit for exploratory data analysis, did not become widely know until its formal publication in 1977. "
   ]
  },
  {
   "cell_type": "code",
   "execution_count": 1,
   "metadata": {},
   "outputs": [],
   "source": [
    "%matplotlib inline\n",
    "import numpy as np\n",
    "import matplotlib.pyplot as plt\n",
    "import pandas as pd"
   ]
  },
  {
   "cell_type": "code",
   "execution_count": 24,
   "metadata": {},
   "outputs": [],
   "source": [
    "Cooling_Tower_1_pH = np.random.normal(7, 2, 20)\n",
    "Cooling_Tower_2_pH = np.random.uniform(7, 2, 20)\n",
    "Cooling_Tower_3_pH = np.random.exponential(7, 20)\n",
    "#Cooling_Tower_4_pH = np.random.chisquared()"
   ]
  },
  {
   "cell_type": "code",
   "execution_count": 25,
   "metadata": {},
   "outputs": [
    {
     "data": {
      "text/plain": [
       "array([ 9.92746374,  8.59285858,  5.90604404,  9.75047763,  4.80164745,\n",
       "        8.02006084,  4.00077216,  6.28476813,  8.22095442,  7.91557044,\n",
       "        7.94856314,  4.91161789, 10.08348439,  6.19379349,  9.23493226,\n",
       "        8.17453129,  6.07640147,  4.79013613,  6.43966975,  3.63568009])"
      ]
     },
     "execution_count": 25,
     "metadata": {},
     "output_type": "execute_result"
    }
   ],
   "source": [
    "Cooling_Tower_1_pH"
   ]
  },
  {
   "cell_type": "code",
   "execution_count": 26,
   "metadata": {},
   "outputs": [],
   "source": [
    "data = {'pH_1': Cooling_Tower_1_pH, 'pH_2': Cooling_Tower_3_pH}"
   ]
  },
  {
   "cell_type": "code",
   "execution_count": 27,
   "metadata": {},
   "outputs": [],
   "source": [
    "df = pd.DataFrame(data)"
   ]
  },
  {
   "cell_type": "code",
   "execution_count": 28,
   "metadata": {},
   "outputs": [
    {
     "data": {
      "text/html": [
       "<div>\n",
       "<style scoped>\n",
       "    .dataframe tbody tr th:only-of-type {\n",
       "        vertical-align: middle;\n",
       "    }\n",
       "\n",
       "    .dataframe tbody tr th {\n",
       "        vertical-align: top;\n",
       "    }\n",
       "\n",
       "    .dataframe thead th {\n",
       "        text-align: right;\n",
       "    }\n",
       "</style>\n",
       "<table border=\"1\" class=\"dataframe\">\n",
       "  <thead>\n",
       "    <tr style=\"text-align: right;\">\n",
       "      <th></th>\n",
       "      <th>pH_1</th>\n",
       "      <th>pH_2</th>\n",
       "    </tr>\n",
       "  </thead>\n",
       "  <tbody>\n",
       "    <tr>\n",
       "      <th>0</th>\n",
       "      <td>9.927464</td>\n",
       "      <td>1.272919</td>\n",
       "    </tr>\n",
       "    <tr>\n",
       "      <th>1</th>\n",
       "      <td>8.592859</td>\n",
       "      <td>2.151805</td>\n",
       "    </tr>\n",
       "    <tr>\n",
       "      <th>2</th>\n",
       "      <td>5.906044</td>\n",
       "      <td>6.743983</td>\n",
       "    </tr>\n",
       "    <tr>\n",
       "      <th>3</th>\n",
       "      <td>9.750478</td>\n",
       "      <td>20.078966</td>\n",
       "    </tr>\n",
       "    <tr>\n",
       "      <th>4</th>\n",
       "      <td>4.801647</td>\n",
       "      <td>0.213907</td>\n",
       "    </tr>\n",
       "    <tr>\n",
       "      <th>5</th>\n",
       "      <td>8.020061</td>\n",
       "      <td>13.134646</td>\n",
       "    </tr>\n",
       "    <tr>\n",
       "      <th>6</th>\n",
       "      <td>4.000772</td>\n",
       "      <td>2.265465</td>\n",
       "    </tr>\n",
       "    <tr>\n",
       "      <th>7</th>\n",
       "      <td>6.284768</td>\n",
       "      <td>9.385677</td>\n",
       "    </tr>\n",
       "    <tr>\n",
       "      <th>8</th>\n",
       "      <td>8.220954</td>\n",
       "      <td>0.831005</td>\n",
       "    </tr>\n",
       "    <tr>\n",
       "      <th>9</th>\n",
       "      <td>7.915570</td>\n",
       "      <td>7.175154</td>\n",
       "    </tr>\n",
       "    <tr>\n",
       "      <th>10</th>\n",
       "      <td>7.948563</td>\n",
       "      <td>11.617762</td>\n",
       "    </tr>\n",
       "    <tr>\n",
       "      <th>11</th>\n",
       "      <td>4.911618</td>\n",
       "      <td>23.972073</td>\n",
       "    </tr>\n",
       "    <tr>\n",
       "      <th>12</th>\n",
       "      <td>10.083484</td>\n",
       "      <td>18.623595</td>\n",
       "    </tr>\n",
       "    <tr>\n",
       "      <th>13</th>\n",
       "      <td>6.193793</td>\n",
       "      <td>12.224187</td>\n",
       "    </tr>\n",
       "    <tr>\n",
       "      <th>14</th>\n",
       "      <td>9.234932</td>\n",
       "      <td>4.623097</td>\n",
       "    </tr>\n",
       "    <tr>\n",
       "      <th>15</th>\n",
       "      <td>8.174531</td>\n",
       "      <td>6.986816</td>\n",
       "    </tr>\n",
       "    <tr>\n",
       "      <th>16</th>\n",
       "      <td>6.076401</td>\n",
       "      <td>11.269713</td>\n",
       "    </tr>\n",
       "    <tr>\n",
       "      <th>17</th>\n",
       "      <td>4.790136</td>\n",
       "      <td>5.163805</td>\n",
       "    </tr>\n",
       "    <tr>\n",
       "      <th>18</th>\n",
       "      <td>6.439670</td>\n",
       "      <td>0.187929</td>\n",
       "    </tr>\n",
       "    <tr>\n",
       "      <th>19</th>\n",
       "      <td>3.635680</td>\n",
       "      <td>7.370315</td>\n",
       "    </tr>\n",
       "  </tbody>\n",
       "</table>\n",
       "</div>"
      ],
      "text/plain": [
       "         pH_1       pH_2\n",
       "0    9.927464   1.272919\n",
       "1    8.592859   2.151805\n",
       "2    5.906044   6.743983\n",
       "3    9.750478  20.078966\n",
       "4    4.801647   0.213907\n",
       "5    8.020061  13.134646\n",
       "6    4.000772   2.265465\n",
       "7    6.284768   9.385677\n",
       "8    8.220954   0.831005\n",
       "9    7.915570   7.175154\n",
       "10   7.948563  11.617762\n",
       "11   4.911618  23.972073\n",
       "12  10.083484  18.623595\n",
       "13   6.193793  12.224187\n",
       "14   9.234932   4.623097\n",
       "15   8.174531   6.986816\n",
       "16   6.076401  11.269713\n",
       "17   4.790136   5.163805\n",
       "18   6.439670   0.187929\n",
       "19   3.635680   7.370315"
      ]
     },
     "execution_count": 28,
     "metadata": {},
     "output_type": "execute_result"
    }
   ],
   "source": [
    "df.round({'pH': 2, 'pH': 2, })"
   ]
  },
  {
   "cell_type": "markdown",
   "metadata": {},
   "source": [
    "matplotlib.pyplot.boxplot(x, notch=None, sym=None, vert=None, whis=None, positions=None, widths=None, patch_artist=None, bootstrap=None, usermedians=None, conf_intervals=None, meanline=None, showmeans=None, showcaps=None, showbox=None, showfliers=None, boxprops=None, labels=None, flierprops=None, medianprops=None, meanprops=None, capprops=None, whiskerprops=None, manage_xticks=True, autorange=False, zorder=None, *, data=None)[source]\n"
   ]
  },
  {
   "cell_type": "code",
   "execution_count": 10,
   "metadata": {},
   "outputs": [
    {
     "data": {
      "image/png": "[encoded data removed]",
      "text/plain": [
       "<Figure size 432x288 with 1 Axes>"
      ]
     },
     "metadata": {
      "needs_background": "light"
     },
     "output_type": "display_data"
    }
   ],
   "source": [
    "plt.ylabel('reading')\n",
    "plt.boxplot(df['pH'])\n",
    "plt.show()"
   ]
  },
  {
   "cell_type": "code",
   "execution_count": null,
   "metadata": {},
   "outputs": [],
   "source": [
    "plt.ylabel('reading')\n",
    "plt.boxplot(df['Conductivity'])\n",
    "plt.show()"
   ]
  },
  {
   "cell_type": "code",
   "execution_count": null,
   "metadata": {},
   "outputs": [],
   "source": [
    "x1 = 10*np.random.random(100)\n",
    "x2 = 10*np.random.exponential(0.5, 100)\n",
    "x3 = 10*np.random.normal(0, 0.4, 100)\n",
    "plt.boxplot ([x1, x2, x3])\n",
    "plt.show()"
   ]
  },
  {
   "cell_type": "code",
   "execution_count": null,
   "metadata": {},
   "outputs": [],
   "source": []
  }
 ],
 "metadata": {
  "kernelspec": {
   "display_name": "Python 3",
   "language": "python",
   "name": "python3"
  },
  "language_info": {
   "codemirror_mode": {
    "name": "ipython",
    "version": 3
   },
   "file_extension": ".py",
   "mimetype": "text/x-python",
   "name": "python",
   "nbconvert_exporter": "python",
   "pygments_lexer": "ipython3",
   "version": "3.7.0"
  }
 },
 "nbformat": 4,
 "nbformat_minor": 2
}
