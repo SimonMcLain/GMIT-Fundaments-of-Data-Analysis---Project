{
 "cells": [
  {
   "cell_type": "markdown",
   "metadata": {},
   "source": [
    "<img src=\"tukey.png\">\n",
    "\n",
    "John Wilder Tukey\n",
    "Born: 16 June 1915 in New Bedford, Massachusetts, USA\n",
    "Died: 26 July 2000 in Princeton, New Jersey, USA\n",
    "\n",
    "###### Image credit http://www-groups.dcs.st-and.ac.uk/history/Biographies/Tukey.html"
   ]
  },
  {
   "cell_type": "markdown",
   "metadata": {},
   "source": [
    "Tukey was an American mathematician with an esteemed and diverse career. One of the great minds of his generation. After studing Chemistry in Brown and Princetown he transitioned early in his career to mathematics. He was awarded a doctorate in 1939, having already been published three times. In the 1940's Tukey contributed to the War effort, applying his talent for mathematics to increasing the effectiveness of field artillary, and it was rumoured he also dabbled in code breaking. After the War he divided his time between academia and Bell Laboratories. In his day Tukey notable for his 'eccentric' style of lecturing, where he encouraged his students to think for themselves. \n",
    "\n",
    "Among statisticians and data analysts he is known as the creater of the box plot and the fast Fourier transform (FFT) algorithm."
   ]
  },
  {
   "cell_type": "markdown",
   "metadata": {},
   "source": [
    "## Project 2018 Fundaments of Data Analysis\n",
    "\n",
    "### Problem Statement\n",
    "\n",
    "The box plot is common in data analysis for investigating individual numerical variables. In this project students are to investigate and explain box plots and their uses. The boxplot function from the Python package matplotlib.pyplot can be used to create box plots. Submission should be in the form of a repository containing a Jupyter notebook in which students detail their findings. In their notebook students should:\n",
    "\n",
    "- Summarise the history of the box plot and situations in which it is used.\n",
    "- Demonstrate the use of the box plot using data of their choosing.\n",
    "- Explain and relevant terminology such as the terms quartile and percentile.\n",
    "- Compare the box plot to alternatives. "
   ]
  },
  {
   "cell_type": "markdown",
   "metadata": {},
   "source": [
    "#### Summarise the history of the box plot and situations in which it is used\n",
    "\n",
    "The box plot, or more accurately box and whisker plot, was created by Tukey in 1970 as part of his tool kit for exploratory data analysis, did not become widely know until its formal publication in 1977. \n",
    "\n",
    "Tukey originally created the box plot to be able to quickly graphically summarise data by hand. It both enables analysts to visualise and compare data. Charto.com provides a very straight forward explanation to what it is and how to use it. \n",
    "\n",
    "The box and whisker plot has two main advantages. Firstly its simplicity makes it very straight-forward for statisticians to create, since only five easily computable summary statistics are necessary:\n",
    "\n",
    "- Minimum value\n",
    "- First Quartile\n",
    "- Second Quartile (median)\n",
    "- Third Quartile \n",
    "- Maximium value\n",
    "\n",
    "Secondly, it describes skewed data extremely well. Skew occurs in a distribution when the median and mean values are not equal. In other words if the data is asymmetical rather than symetrical. The median represents the point where 50% of observed values are __always__ above or below it. This is not always the case for the mean, as it is effected by outliers. As such box plots are superiour to using mean and standard deviation for assessing the spread of a distribution. Standard deviation is the sum of the squares of each observation divided by the number of observations and minus the square of the mean (aka the mean of means). The mean and standard deviation technique is best used for symetrical data, for example in a Gaussian (normal) distribution. \n",
    "\n",
    "So box and whisker plots are best used to quickly understand the shape of your data in terms of:\n",
    "- Are the observations symmetrical or asymmetrical? \n",
    "- What is the spread or dispersion of the observations?\n",
    "- What is the degree of central tendency for the observations?\n",
    "- Do the observations contain outliers?\n",
    "\n",
    "\n",
    "#### Explain and relevant terminology such as the terms quartile and percentile\n",
    "As noted the box plot desribes central tendancy and skew, by describing the middle and dispersion of a distributiuon of values within a given range. The median (or middle) values is the centre of the distribution, the number that divides the observed values in two. \n",
    "\n",
    "For example, consider our observations are all the numbers for one up to eleven in intervals of one i.e. [1, 2, 3, ... 9, 10, 11] The median in 6, since it divides the observed values in two. Five observed values above 6 and five below. Quartiles divide the the observed data into four. So in our observations the First Quartile is 3, the Second Quartile is equal to the median, so 6. The Third Quartile is 9. The minimum value is 1 and the maximium value is 11. \n",
    "\n",
    "Presto, we have all the summary statistics required to create a box plot! \n",
    "\n",
    "OK my example is overly simplistic, but the same principal can be used for any observed values. If you're dealing with an even number of observations just take the mean of the two values above and below where your Quartile would be. For instance for the observed values in the range of one up to ten in interval of 1 the median (Second Quartile)is 5.5. And don't be put off when there are duplicate observed values, for instance [1,1,2,2,2,4,4,4,5,6,7] The principal of dividing into Quartiles works exactly the same. 25% of observed values lay between the minimum number and the First Quartile, 25% of the observed values lay between the First Quartile and the Second Quartile (median), 25 percent of the observed values lay between the Second Quartile and the Third Quartile, and 25% of the observed values lay between the Third Quartile and the maximum value. \n",
    "\n",
    "A box plot contains a box and  towo whiskers. The box represent all the values between the First Quartile and the Third Quartile. As such is represents 50% of the observed values. The whiskers are lines that connect the lowest and highest observed values to the box. To calculate the interquartile range subtract the value of the First Quartile from the value of the Second Quartile.\n",
    "\n",
    "With these values displayed within a box plot you can begin to see the central tendancy and skew of your observed values in comparison to their overall distribution.\n",
    "\n",
    "Analysts may also wish to consider whether or not their data contains extreme outliers, as these can also be visually described in a box plot but they may not wish to include them in their whiskers. Some statistical software applications automatically detect outliers, others do not. \n",
    "\n",
    "Percentiles are just another flavour of quartiles, instead of dividing the data into four parts it is divided into ten parts. This will be of value when you have a polynomial distribution. And in such cases a Violin Plot or histogram may be more appropriate for visualising the data. "
   ]
  },
  {
   "cell_type": "markdown",
   "metadata": {},
   "source": [
    "#### Demonstrate the use of the box plot using data"
   ]
  },
  {
   "cell_type": "code",
   "execution_count": 1,
   "metadata": {},
   "outputs": [],
   "source": [
    "# Import packages to generate random data, enable plotting and create a dataframe\n",
    "%matplotlib inline\n",
    "import numpy as np\n",
    "import matplotlib.pyplot as plt\n",
    "import seaborn as sns\n",
    "import pandas as pd\n",
    "import warnings\n",
    "warnings.simplefilter(action='ignore', category=FutureWarning)"
   ]
  },
  {
   "cell_type": "code",
   "execution_count": 2,
   "metadata": {},
   "outputs": [],
   "source": [
    "# Seed the pseudorandom number generator to aid debugging output\n",
    "np.random.seed(5)\n",
    "\n",
    "# Generate random data to simulate the pH of recirculating water in two Cooling Towers as measured by a technician\n",
    "# Note pH is a measure of acidity\n",
    "Cooling_Tower_1_pH = np.random.normal(7.5, 0.25, 31)\n",
    "Cooling_Tower_2_pH = np.random.gamma(25, 0.25, 31)\n",
    "Cooling_Tower_1_pH = Cooling_Tower_1_pH.round(2)\n",
    "Cooling_Tower_2_pH = Cooling_Tower_2_pH.round(2)\n",
    "\n",
    "# Create dates to represent the days the samples where taken\n",
    "start = pd.datetime(2018, 12, 1)\n",
    "end = pd.datetime(2018, 12, 31)\n",
    "index = pd.date_range(start, end)\n",
    "#Sort from High to low to simulate falling pH due to acid over dosing in Cooling Tower 2 that depresses the pH values\n",
    "Cooling_Tower_2_pH[::-1].sort()\n"
   ]
  },
  {
   "cell_type": "code",
   "execution_count": 3,
   "metadata": {},
   "outputs": [],
   "source": [
    "# Create a dictonary of key, value pairs. Key being the sample points names and value being the simulated pH values \n",
    "data = {'Cooling Tower 1': Cooling_Tower_1_pH, 'Cooling Tower 2': Cooling_Tower_2_pH,}"
   ]
  },
  {
   "cell_type": "code",
   "execution_count": 4,
   "metadata": {},
   "outputs": [
    {
     "data": {
      "text/html": [
       "<div>\n",
       "<style scoped>\n",
       "    .dataframe tbody tr th:only-of-type {\n",
       "        vertical-align: middle;\n",
       "    }\n",
       "\n",
       "    .dataframe tbody tr th {\n",
       "        vertical-align: top;\n",
       "    }\n",
       "\n",
       "    .dataframe thead th {\n",
       "        text-align: right;\n",
       "    }\n",
       "</style>\n",
       "<table border=\"1\" class=\"dataframe\">\n",
       "  <thead>\n",
       "    <tr style=\"text-align: right;\">\n",
       "      <th></th>\n",
       "      <th>Cooling Tower 1</th>\n",
       "      <th>Cooling Tower 2</th>\n",
       "    </tr>\n",
       "    <tr>\n",
       "      <th>Date</th>\n",
       "      <th></th>\n",
       "      <th></th>\n",
       "    </tr>\n",
       "  </thead>\n",
       "  <tbody>\n",
       "    <tr>\n",
       "      <th>2018-12-01</th>\n",
       "      <td>7.61</td>\n",
       "      <td>8.26</td>\n",
       "    </tr>\n",
       "    <tr>\n",
       "      <th>2018-12-02</th>\n",
       "      <td>7.42</td>\n",
       "      <td>8.05</td>\n",
       "    </tr>\n",
       "    <tr>\n",
       "      <th>2018-12-03</th>\n",
       "      <td>8.11</td>\n",
       "      <td>7.93</td>\n",
       "    </tr>\n",
       "    <tr>\n",
       "      <th>2018-12-04</th>\n",
       "      <td>7.44</td>\n",
       "      <td>7.68</td>\n",
       "    </tr>\n",
       "    <tr>\n",
       "      <th>2018-12-05</th>\n",
       "      <td>7.53</td>\n",
       "      <td>7.14</td>\n",
       "    </tr>\n",
       "    <tr>\n",
       "      <th>2018-12-06</th>\n",
       "      <td>7.90</td>\n",
       "      <td>7.07</td>\n",
       "    </tr>\n",
       "    <tr>\n",
       "      <th>2018-12-07</th>\n",
       "      <td>7.27</td>\n",
       "      <td>7.01</td>\n",
       "    </tr>\n",
       "    <tr>\n",
       "      <th>2018-12-08</th>\n",
       "      <td>7.35</td>\n",
       "      <td>6.77</td>\n",
       "    </tr>\n",
       "    <tr>\n",
       "      <th>2018-12-09</th>\n",
       "      <td>7.55</td>\n",
       "      <td>6.68</td>\n",
       "    </tr>\n",
       "    <tr>\n",
       "      <th>2018-12-10</th>\n",
       "      <td>7.42</td>\n",
       "      <td>6.65</td>\n",
       "    </tr>\n",
       "    <tr>\n",
       "      <th>2018-12-11</th>\n",
       "      <td>7.20</td>\n",
       "      <td>6.55</td>\n",
       "    </tr>\n",
       "    <tr>\n",
       "      <th>2018-12-12</th>\n",
       "      <td>7.45</td>\n",
       "      <td>6.50</td>\n",
       "    </tr>\n",
       "    <tr>\n",
       "      <th>2018-12-13</th>\n",
       "      <td>7.41</td>\n",
       "      <td>6.46</td>\n",
       "    </tr>\n",
       "    <tr>\n",
       "      <th>2018-12-14</th>\n",
       "      <td>7.65</td>\n",
       "      <td>6.14</td>\n",
       "    </tr>\n",
       "    <tr>\n",
       "      <th>2018-12-15</th>\n",
       "      <td>7.08</td>\n",
       "      <td>6.11</td>\n",
       "    </tr>\n",
       "    <tr>\n",
       "      <th>2018-12-16</th>\n",
       "      <td>7.32</td>\n",
       "      <td>6.10</td>\n",
       "    </tr>\n",
       "    <tr>\n",
       "      <th>2018-12-17</th>\n",
       "      <td>7.79</td>\n",
       "      <td>6.03</td>\n",
       "    </tr>\n",
       "    <tr>\n",
       "      <th>2018-12-18</th>\n",
       "      <td>7.96</td>\n",
       "      <td>5.91</td>\n",
       "    </tr>\n",
       "    <tr>\n",
       "      <th>2018-12-19</th>\n",
       "      <td>7.12</td>\n",
       "      <td>5.90</td>\n",
       "    </tr>\n",
       "    <tr>\n",
       "      <th>2018-12-20</th>\n",
       "      <td>7.66</td>\n",
       "      <td>5.87</td>\n",
       "    </tr>\n",
       "    <tr>\n",
       "      <th>2018-12-21</th>\n",
       "      <td>7.25</td>\n",
       "      <td>5.86</td>\n",
       "    </tr>\n",
       "    <tr>\n",
       "      <th>2018-12-22</th>\n",
       "      <td>7.29</td>\n",
       "      <td>5.82</td>\n",
       "    </tr>\n",
       "    <tr>\n",
       "      <th>2018-12-23</th>\n",
       "      <td>7.28</td>\n",
       "      <td>5.81</td>\n",
       "    </tr>\n",
       "    <tr>\n",
       "      <th>2018-12-24</th>\n",
       "      <td>7.39</td>\n",
       "      <td>5.57</td>\n",
       "    </tr>\n",
       "    <tr>\n",
       "      <th>2018-12-25</th>\n",
       "      <td>7.75</td>\n",
       "      <td>5.42</td>\n",
       "    </tr>\n",
       "    <tr>\n",
       "      <th>2018-12-26</th>\n",
       "      <td>7.68</td>\n",
       "      <td>5.30</td>\n",
       "    </tr>\n",
       "    <tr>\n",
       "      <th>2018-12-27</th>\n",
       "      <td>7.51</td>\n",
       "      <td>5.29</td>\n",
       "    </tr>\n",
       "    <tr>\n",
       "      <th>2018-12-28</th>\n",
       "      <td>7.41</td>\n",
       "      <td>5.01</td>\n",
       "    </tr>\n",
       "    <tr>\n",
       "      <th>2018-12-29</th>\n",
       "      <td>7.50</td>\n",
       "      <td>4.85</td>\n",
       "    </tr>\n",
       "    <tr>\n",
       "      <th>2018-12-30</th>\n",
       "      <td>7.47</td>\n",
       "      <td>4.64</td>\n",
       "    </tr>\n",
       "    <tr>\n",
       "      <th>2018-12-31</th>\n",
       "      <td>7.70</td>\n",
       "      <td>4.60</td>\n",
       "    </tr>\n",
       "  </tbody>\n",
       "</table>\n",
       "</div>"
      ],
      "text/plain": [
       "            Cooling Tower 1  Cooling Tower 2\n",
       "Date                                        \n",
       "2018-12-01             7.61             8.26\n",
       "2018-12-02             7.42             8.05\n",
       "2018-12-03             8.11             7.93\n",
       "2018-12-04             7.44             7.68\n",
       "2018-12-05             7.53             7.14\n",
       "2018-12-06             7.90             7.07\n",
       "2018-12-07             7.27             7.01\n",
       "2018-12-08             7.35             6.77\n",
       "2018-12-09             7.55             6.68\n",
       "2018-12-10             7.42             6.65\n",
       "2018-12-11             7.20             6.55\n",
       "2018-12-12             7.45             6.50\n",
       "2018-12-13             7.41             6.46\n",
       "2018-12-14             7.65             6.14\n",
       "2018-12-15             7.08             6.11\n",
       "2018-12-16             7.32             6.10\n",
       "2018-12-17             7.79             6.03\n",
       "2018-12-18             7.96             5.91\n",
       "2018-12-19             7.12             5.90\n",
       "2018-12-20             7.66             5.87\n",
       "2018-12-21             7.25             5.86\n",
       "2018-12-22             7.29             5.82\n",
       "2018-12-23             7.28             5.81\n",
       "2018-12-24             7.39             5.57\n",
       "2018-12-25             7.75             5.42\n",
       "2018-12-26             7.68             5.30\n",
       "2018-12-27             7.51             5.29\n",
       "2018-12-28             7.41             5.01\n",
       "2018-12-29             7.50             4.85\n",
       "2018-12-30             7.47             4.64\n",
       "2018-12-31             7.70             4.60"
      ]
     },
     "execution_count": 4,
     "metadata": {},
     "output_type": "execute_result"
    }
   ],
   "source": [
    "# Pass the dictonary into a pandas dataframe\n",
    "df = pd.DataFrame(data, index=index)\n",
    "df.index.name = 'Date'\n",
    "#Display the dataframe\n",
    "df"
   ]
  },
  {
   "cell_type": "code",
   "execution_count": 5,
   "metadata": {},
   "outputs": [
    {
     "data": {
      "image/png": "[encoded data removed]",
      "text/plain": [
       "<Figure size 432x288 with 2 Axes>"
      ]
     },
     "metadata": {
      "needs_background": "light"
     },
     "output_type": "display_data"
    }
   ],
   "source": [
    "# Create two subplots in a row\n",
    "fig, axarr = plt.subplots(1, 2, sharey=True)\n",
    "\n",
    "fig.subplots_adjust(left=0.08, right=0.98, bottom=0.05, top=0.85,\n",
    "                    hspace=0.6, wspace=0)\n",
    "axarr[0].boxplot(df['Cooling Tower 1'])\n",
    "axarr[0].set_title(\"Cooling Tower1\")\n",
    "axarr[0].set_ylabel('pH')\n",
    "axarr[1].boxplot(df['Cooling Tower 2'])\n",
    "axarr[1].set_title(\"Cooling Tower2\")\n",
    "\n",
    "fig.suptitle(\"Comparing pH in two cooling towers\")\n",
    "plt.show()"
   ]
  },
  {
   "cell_type": "markdown",
   "metadata": {},
   "source": [
    "When comparing the two plots one can clearly see that the pH values for cooling tower 2 not only tend to be lower, they are much more dispersed than cooling tower 1. For this simulation I deliberately exagerated the decrease in pH values for cooling tower 2, the intention being to demonstrate the value of using box plots for the visualisation of sensor data from industrial processes where maintaining a value to a setpoint and within control limits is important. Box plots enable us to understand the degree of variablity within a piece of plant, even if it is within control limits, since a higher level of variability (dispersion) of the values may be indicative of instability that may lead to a failure. "
   ]
  },
  {
   "cell_type": "markdown",
   "metadata": {},
   "source": [
    "#### Compare the box plot to alternatives"
   ]
  },
  {
   "cell_type": "code",
   "execution_count": 6,
   "metadata": {},
   "outputs": [
    {
     "data": {
      "image/png": "[encoded data removed]",
      "text/plain": [
       "<Figure size 432x288 with 2 Axes>"
      ]
     },
     "metadata": {
      "needs_background": "light"
     },
     "output_type": "display_data"
    }
   ],
   "source": [
    "f, axarr = plt.subplots(1, 2, sharey=True)\n",
    "f.subplots_adjust(left=0.08, right=0.98, bottom=0.05, top=0.85,\n",
    "                    hspace=0.6, wspace=0)\n",
    "\n",
    "axarr[0].hist(df['Cooling Tower 1'], bins=10, color='c', edgecolor='k', alpha=0.65, Label=\"CT1\")\n",
    "axarr[0].set_title(\"Cooling Tower1\")\n",
    "axarr[0].set_xlabel('pH')\n",
    "\n",
    "\n",
    "\n",
    "axarr[1].hist(df['Cooling Tower 2'], bins=10, color='y', edgecolor='k', alpha=0.65)\n",
    "axarr[1].set_title(\"Cooling Tower2\")\n",
    "axarr[1].set_xlabel('pH')\n",
    "\n",
    "\n",
    "\n",
    "f.suptitle(\"Comparing pH in two cooling towers with a histogram\")\n",
    "\n",
    "\n",
    "plt.show()\n",
    "\n",
    "\n"
   ]
  },
  {
   "cell_type": "markdown",
   "metadata": {},
   "source": [
    "A histogram of the same data still provide some insights that the pH in Cooling Tower 2 tends to be lower or higher than for cooling tower 1. However it is difficult to quickly dissern the dispersion. In both graphs values within certain ranges  do appear to occur more frequently. But with twice as much code it actually provides fewer insights into what is happening in these cooling towers. "
   ]
  },
  {
   "cell_type": "code",
   "execution_count": 7,
   "metadata": {},
   "outputs": [
    {
     "data": {
      "text/plain": [
       "<matplotlib.axes._subplots.AxesSubplot at 0x27cdf769470>"
      ]
     },
     "execution_count": 7,
     "metadata": {},
     "output_type": "execute_result"
    },
    {
     "data": {
      "image/png": "[encoded data removed]",
      "text/plain": [
       "<Figure size 432x288 with 1 Axes>"
      ]
     },
     "metadata": {
      "needs_background": "light"
     },
     "output_type": "display_data"
    }
   ],
   "source": [
    "sns.violinplot(df['Cooling Tower 2'])"
   ]
  },
  {
   "cell_type": "markdown",
   "metadata": {},
   "source": [
    "The violin plot is like a hybrid between a box plot and an histogram. Like a box plot it indicates skew and dispersion. And like a histogram is provides an indication of central tendancy. "
   ]
  },
  {
   "cell_type": "markdown",
   "metadata": {},
   "source": [
    "## End"
   ]
  },
  {
   "cell_type": "markdown",
   "metadata": {},
   "source": [
    "Please refer to README.md for a full list of references used"
   ]
  }
 ],
 "metadata": {
  "kernelspec": {
   "display_name": "Python 3",
   "language": "python",
   "name": "python3"
  },
  "language_info": {
   "codemirror_mode": {
    "name": "ipython",
    "version": 3
   },
   "file_extension": ".py",
   "mimetype": "text/x-python",
   "name": "python",
   "nbconvert_exporter": "python",
   "pygments_lexer": "ipython3",
   "version": "3.7.0"
  }
 },
 "nbformat": 4,
 "nbformat_minor": 2
}
