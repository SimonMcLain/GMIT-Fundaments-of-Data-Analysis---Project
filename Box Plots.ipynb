{
 "cells": [
  {
   "cell_type": "markdown",
   "metadata": {},
   "source": [
    "<img src=\"tukey.png\">\n",
    "\n",
    "John Wilder Tukey\n",
    "Born: 16 June 1915 in New Bedford, Massachusetts, USA\n",
    "Died: 26 July 2000 in Princeton, New Jersey, USA\n",
    "\n",
    "###### Image credit http://www-groups.dcs.st-and.ac.uk/history/Biographies/Tukey.html"
   ]
  },
  {
   "cell_type": "markdown",
   "metadata": {},
   "source": [
    "Tukey was an American mathematician with an esteemed and diverse career. One of the great minds of his generation. After studing Chemistry in Brown and Princetown he transitioned early in his career to mathematics. He was awarded a doctorate in 1939, having already been published three times. In the 1940's Tukey contributed to the War effort, applying his talent for mathematics to increasing the effectiveness of field artillary, and it was rumoured he also dabbled in code breaking. After the War he divided his time between academia and Bell Laboratories. In his day Tukey notable for his 'eccentric' style of lecturing, where he encouraged his students to think for themselves. \n",
    "\n",
    "Among statisticians and data analysts he is known as the creater of the box plot and the fast Fourier transform (FFT) algorithm."
   ]
  },
  {
   "cell_type": "markdown",
   "metadata": {},
   "source": [
    "## Project 2018 Fundaments of Data Analysis\n",
    "\n",
    "### Problem Statement\n",
    "\n",
    "The box plot is common in data analysis for investigating individual numerical variables. In this project students are to investigate and explain box plots and their uses. The boxplot function from the Python package matplotlib.pyplot can be used to create box plots. Submission should be in the form of a repository containing a Jupyter notebook in which students detail their findings. In their notebook students should:\n",
    "\n",
    "- Summarise the history of the box plot and situations in which it is used.\n",
    "- Demonstrate the use of the box plot using data of their choosing.\n",
    "- Explain and relevant terminology such as the terms quartile and percentile.\n",
    "- Compare the box plot to alternatives. "
   ]
  },
  {
   "cell_type": "markdown",
   "metadata": {},
   "source": [
    "#### Summarise the history of the box plot and situations in which it is used\n",
    "The box plot, or more accurately box and whisker plot, created by Tukey in 1970 as part of his tool kit for exploratory data analysis, did not become widely know until its formal publication in 1977. "
   ]
  },
  {
   "cell_type": "markdown",
   "metadata": {},
   "source": [
    "#### Demonstrate the use of the box plot using data"
   ]
  },
  {
   "cell_type": "code",
   "execution_count": 1,
   "metadata": {},
   "outputs": [],
   "source": [
    "# Import packages to generate random data, enable plotting and create a dataframe\n",
    "%matplotlib inline\n",
    "import numpy as np\n",
    "import matplotlib.pyplot as plt\n",
    "import pandas as pd"
   ]
  },
  {
   "cell_type": "code",
   "execution_count": 26,
   "metadata": {},
   "outputs": [],
   "source": [
    "# Seed the pseudorandom number generator to aid debugging\n",
    "np.random.seed(5)\n",
    "\n",
    "# Generate random data to simulate the pH of recirculating water in two Cooling Towers taken from a a sensing device\n",
    "Cooling_Tower_1_pH = np.random.normal(7.5, 0.25, 20)\n",
    "Cooling_Tower_2_pH = np.random.normal(8, 1, 20)\n",
    "Cooling_Tower_1_pH = Cooling_Tower_1_pH.round(2)\n",
    "Cooling_Tower_2_pH = Cooling_Tower_2_pH.round(2)\n",
    "#Sort from High to low to simulate falling pH due to acid contamination\n",
    "Cooling_Tower_2_pH[::-1].sort()"
   ]
  },
  {
   "cell_type": "code",
   "execution_count": 27,
   "metadata": {},
   "outputs": [],
   "source": [
    "# Create a dictonary of key, value pairs. Key being the sample points name and value being \n",
    "data = {'Cooling Tower 1': Cooling_Tower_1_pH, 'Cooling Tower 2': Cooling_Tower_2_pH}"
   ]
  },
  {
   "cell_type": "code",
   "execution_count": 28,
   "metadata": {},
   "outputs": [
    {
     "data": {
      "text/html": [
       "<div>\n",
       "<style scoped>\n",
       "    .dataframe tbody tr th:only-of-type {\n",
       "        vertical-align: middle;\n",
       "    }\n",
       "\n",
       "    .dataframe tbody tr th {\n",
       "        vertical-align: top;\n",
       "    }\n",
       "\n",
       "    .dataframe thead th {\n",
       "        text-align: right;\n",
       "    }\n",
       "</style>\n",
       "<table border=\"1\" class=\"dataframe\">\n",
       "  <thead>\n",
       "    <tr style=\"text-align: right;\">\n",
       "      <th></th>\n",
       "      <th>Cooling Tower 1</th>\n",
       "      <th>Cooling Tower 2</th>\n",
       "    </tr>\n",
       "    <tr>\n",
       "      <th>Sample Number</th>\n",
       "      <th></th>\n",
       "      <th></th>\n",
       "    </tr>\n",
       "  </thead>\n",
       "  <tbody>\n",
       "    <tr>\n",
       "      <th>0</th>\n",
       "      <td>7.61</td>\n",
       "      <td>9.56</td>\n",
       "    </tr>\n",
       "    <tr>\n",
       "      <th>1</th>\n",
       "      <td>7.42</td>\n",
       "      <td>9.33</td>\n",
       "    </tr>\n",
       "    <tr>\n",
       "      <th>2</th>\n",
       "      <td>8.11</td>\n",
       "      <td>9.00</td>\n",
       "    </tr>\n",
       "    <tr>\n",
       "      <th>3</th>\n",
       "      <td>7.44</td>\n",
       "      <td>8.79</td>\n",
       "    </tr>\n",
       "    <tr>\n",
       "      <th>4</th>\n",
       "      <td>7.53</td>\n",
       "      <td>8.71</td>\n",
       "    </tr>\n",
       "    <tr>\n",
       "      <th>5</th>\n",
       "      <td>7.90</td>\n",
       "      <td>8.25</td>\n",
       "    </tr>\n",
       "    <tr>\n",
       "      <th>6</th>\n",
       "      <td>7.27</td>\n",
       "      <td>8.20</td>\n",
       "    </tr>\n",
       "    <tr>\n",
       "      <th>7</th>\n",
       "      <td>7.35</td>\n",
       "      <td>8.06</td>\n",
       "    </tr>\n",
       "    <tr>\n",
       "      <th>8</th>\n",
       "      <td>7.55</td>\n",
       "      <td>8.00</td>\n",
       "    </tr>\n",
       "    <tr>\n",
       "      <th>9</th>\n",
       "      <td>7.42</td>\n",
       "      <td>7.99</td>\n",
       "    </tr>\n",
       "    <tr>\n",
       "      <th>10</th>\n",
       "      <td>7.20</td>\n",
       "      <td>7.95</td>\n",
       "    </tr>\n",
       "    <tr>\n",
       "      <th>11</th>\n",
       "      <td>7.45</td>\n",
       "      <td>7.91</td>\n",
       "    </tr>\n",
       "    <tr>\n",
       "      <th>12</th>\n",
       "      <td>7.41</td>\n",
       "      <td>7.90</td>\n",
       "    </tr>\n",
       "    <tr>\n",
       "      <th>13</th>\n",
       "      <td>7.65</td>\n",
       "      <td>7.89</td>\n",
       "    </tr>\n",
       "    <tr>\n",
       "      <th>14</th>\n",
       "      <td>7.08</td>\n",
       "      <td>7.64</td>\n",
       "    </tr>\n",
       "    <tr>\n",
       "      <th>15</th>\n",
       "      <td>7.32</td>\n",
       "      <td>7.58</td>\n",
       "    </tr>\n",
       "    <tr>\n",
       "      <th>16</th>\n",
       "      <td>7.79</td>\n",
       "      <td>7.37</td>\n",
       "    </tr>\n",
       "    <tr>\n",
       "      <th>17</th>\n",
       "      <td>7.96</td>\n",
       "      <td>7.14</td>\n",
       "    </tr>\n",
       "    <tr>\n",
       "      <th>18</th>\n",
       "      <td>7.12</td>\n",
       "      <td>7.13</td>\n",
       "    </tr>\n",
       "    <tr>\n",
       "      <th>19</th>\n",
       "      <td>7.66</td>\n",
       "      <td>7.02</td>\n",
       "    </tr>\n",
       "  </tbody>\n",
       "</table>\n",
       "</div>"
      ],
      "text/plain": [
       "               Cooling Tower 1  Cooling Tower 2\n",
       "Sample Number                                  \n",
       "0                         7.61             9.56\n",
       "1                         7.42             9.33\n",
       "2                         8.11             9.00\n",
       "3                         7.44             8.79\n",
       "4                         7.53             8.71\n",
       "5                         7.90             8.25\n",
       "6                         7.27             8.20\n",
       "7                         7.35             8.06\n",
       "8                         7.55             8.00\n",
       "9                         7.42             7.99\n",
       "10                        7.20             7.95\n",
       "11                        7.45             7.91\n",
       "12                        7.41             7.90\n",
       "13                        7.65             7.89\n",
       "14                        7.08             7.64\n",
       "15                        7.32             7.58\n",
       "16                        7.79             7.37\n",
       "17                        7.96             7.14\n",
       "18                        7.12             7.13\n",
       "19                        7.66             7.02"
      ]
     },
     "execution_count": 28,
     "metadata": {},
     "output_type": "execute_result"
    }
   ],
   "source": [
    "# Pass the dictonary into a pandas dataframe\n",
    "df = pd.DataFrame(data)\n",
    "df.index.name = 'Sample Number'\n",
    "#Display the dataframe\n",
    "df"
   ]
  },
  {
   "cell_type": "markdown",
   "metadata": {},
   "source": [
    "matplotlib.pyplot.boxplot(x, notch=None, sym=None, vert=None, whis=None, positions=None, widths=None, patch_artist=None, bootstrap=None, usermedians=None, conf_intervals=None, meanline=None, showmeans=None, showcaps=None, showbox=None, showfliers=None, boxprops=None, labels=None, flierprops=None, medianprops=None, meanprops=None, capprops=None, whiskerprops=None, manage_xticks=True, autorange=False, zorder=None, *, data=None)[source]\n"
   ]
  },
  {
   "cell_type": "code",
   "execution_count": 38,
   "metadata": {},
   "outputs": [
    {
     "data": {
      "image/png": "[encoded data removed]",
      "text/plain": [
       "<Figure size 432x288 with 2 Axes>"
      ]
     },
     "metadata": {
      "needs_background": "light"
     },
     "output_type": "display_data"
    }
   ],
   "source": [
    "f, axarr = plt.subplots(1, 2, sharey=True)\n",
    "axarr[0].boxplot(df['Cooling Tower 1'])\n",
    "axarr[1].boxplot(df['Cooling Tower 2'])\n",
    "f.suptitle(\"Comparing pH in two cooling towers\")\n",
    "axarr[0].set_title('reading')\n",
    "plt.show()"
   ]
  },
  {
   "cell_type": "code",
   "execution_count": null,
   "metadata": {},
   "outputs": [],
   "source": []
  }
 ],
 "metadata": {
  "kernelspec": {
   "display_name": "Python 3",
   "language": "python",
   "name": "python3"
  },
  "language_info": {
   "codemirror_mode": {
    "name": "ipython",
    "version": 3
   },
   "file_extension": ".py",
   "mimetype": "text/x-python",
   "name": "python",
   "nbconvert_exporter": "python",
   "pygments_lexer": "ipython3",
   "version": "3.7.0"
  }
 },
 "nbformat": 4,
 "nbformat_minor": 2
}
